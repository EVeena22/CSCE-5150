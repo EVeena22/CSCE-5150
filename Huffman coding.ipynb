{
  "nbformat": 4,
  "nbformat_minor": 0,
  "metadata": {
    "colab": {
      "provenance": [],
      "authorship_tag": "ABX9TyOzWSMeNymMhntkhAcUuzkC",
      "include_colab_link": true
    },
    "kernelspec": {
      "name": "python3",
      "display_name": "Python 3"
    },
    "language_info": {
      "name": "python"
    }
  },
  "cells": [
    {
      "cell_type": "markdown",
      "metadata": {
        "id": "view-in-github",
        "colab_type": "text"
      },
      "source": [
        "<a href=\"https://colab.research.google.com/github/EVeena22/DevOps/blob/master/Huffman%20coding.ipynb\" target=\"_parent\"><img src=\"https://colab.research.google.com/assets/colab-badge.svg\" alt=\"Open In Colab\"/></a>"
      ]
    },
    {
      "cell_type": "code",
      "execution_count": 2,
      "metadata": {
        "colab": {
          "base_uri": "https://localhost:8080/"
        },
        "id": "Y_fEaPm6gqZG",
        "outputId": "f1d46d15-21fe-4386-d255-d11de65910c8"
      },
      "outputs": [
        {
          "output_type": "stream",
          "name": "stdout",
          "text": [
            "Enter the number of characters: 5\n",
            "Enter character: a\n",
            "Enter frequency: 6\n",
            "Enter character: b\n",
            "Enter frequency: 7\n",
            "Enter character: c\n",
            "Enter frequency: 9\n",
            "Enter character: d\n",
            "Enter frequency: 10\n",
            "Enter character: e\n",
            "Enter frequency: 24\n",
            "Huffman Codes:\n",
            "e: 0\n",
            "a: 100\n",
            "b: 101\n",
            "c: 110\n",
            "d: 111\n"
          ]
        }
      ],
      "source": [
        "import heapq\n",
        "from collections import defaultdict\n",
        "\n",
        "# Node structure for the Huffman Tree\n",
        "class HuffmanNode:\n",
        "    def __init__(self, char, freq):\n",
        "        self.char = char\n",
        "        self.freq = freq\n",
        "        self.left = None\n",
        "        self.right = None\n",
        "\n",
        "    # Overloading comparison operators for heapq\n",
        "    def __lt__(self, other):\n",
        "        if self.freq == other.freq:\n",
        "            return self.char < other.char\n",
        "        return self.freq < other.freq\n",
        "\n",
        "# Function to generate the Huffman Codes\n",
        "def generate_codes(node, code, codes):\n",
        "    if node is None:\n",
        "        return\n",
        "    if node.char is not None:\n",
        "        codes[node.char] = code\n",
        "    generate_codes(node.left, code + \"0\", codes)\n",
        "    generate_codes(node.right, code + \"1\", codes)\n",
        "\n",
        "# Main Huffman Coding Function\n",
        "def huffman_coding(char_freq):\n",
        "    heap = []\n",
        "    for char, freq in char_freq.items():\n",
        "        node = HuffmanNode(char, freq)\n",
        "        heapq.heappush(heap, node)\n",
        "\n",
        "    while len(heap) > 1:\n",
        "        left = heapq.heappop(heap)\n",
        "        right = heapq.heappop(heap)\n",
        "        merged = HuffmanNode(None, left.freq + right.freq)\n",
        "        merged.left = left\n",
        "        merged.right = right\n",
        "        heapq.heappush(heap, merged)\n",
        "\n",
        "    root = heap[0]\n",
        "    codes = {}\n",
        "    generate_codes(root, \"\", codes)\n",
        "    return codes\n",
        "\n",
        "# Taking user input\n",
        "char_freq = defaultdict(int)\n",
        "n = int(input(\"Enter the number of characters: \"))\n",
        "for _ in range(n):\n",
        "    char = input(\"Enter character: \").lower()\n",
        "    freq = int(input(\"Enter frequency: \"))\n",
        "    char_freq[char] += freq\n",
        "\n",
        "# Huffman Coding\n",
        "codes = huffman_coding(char_freq)\n",
        "\n",
        "# Output the Huffman Codes\n",
        "print(\"Huffman Codes:\")\n",
        "for char, code in codes.items():\n",
        "    print(f\"{char}: {code}\")\n"
      ]
    }
  ]
}